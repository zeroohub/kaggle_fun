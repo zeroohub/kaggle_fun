{
 "cells": [
  {
   "cell_type": "code",
   "execution_count": 1,
   "metadata": {},
   "outputs": [],
   "source": [
    "%matplotlib inline\n",
    "%load_ext autoreload\n",
    "%autoreload 2\n",
    "from __future__ import division\n",
    "import sys\n",
    "import os\n",
    "from os.path import join as pjoin\n",
    "from glob import glob\n",
    "sys.path.append('..')"
   ]
  },
  {
   "cell_type": "code",
   "execution_count": 2,
   "metadata": {},
   "outputs": [
    {
     "name": "stderr",
     "output_type": "stream",
     "text": [
      "/home/ansible/WorkSpace/miniconda2/envs/kaggle/lib/python2.7/site-packages/h5py/__init__.py:36: FutureWarning: Conversion of the second argument of issubdtype from `float` to `np.floating` is deprecated. In future, it will be treated as `np.float64 == np.dtype(float).type`.\n",
      "  from ._conv import register_converters as _register_converters\n",
      "Using TensorFlow backend.\n"
     ]
    }
   ],
   "source": [
    "import cv2\n",
    "import csv\n",
    "import numpy as np\n",
    "from sklearn.model_selection import train_test_split\n",
    "from utils.commands import unzip, make_data_dir, mkdir, call, count_file, KaggleCLI, execute_in\n",
    "\n",
    "cli = KaggleCLI('dogs-vs-cats-redux-kernels-edition')"
   ]
  },
  {
   "cell_type": "markdown",
   "metadata": {},
   "source": [
    "## Data preprocess"
   ]
  },
  {
   "cell_type": "code",
   "execution_count": 3,
   "metadata": {},
   "outputs": [],
   "source": [
    "cli.download_data()"
   ]
  },
  {
   "cell_type": "code",
   "execution_count": 4,
   "metadata": {},
   "outputs": [],
   "source": [
    "data_path = pjoin(os.getcwd(), 'data')\n",
    "model_path = pjoin(os.getcwd(), 'models')\n",
    "sample_path = pjoin(data_path, 'sample')\n",
    "train_name = 'train'\n",
    "valid_name = 'valid'\n",
    "test_name = 'ttest'"
   ]
  },
  {
   "cell_type": "code",
   "execution_count": 7,
   "metadata": {
    "collapsed": true
   },
   "outputs": [
    {
     "name": "stdout",
     "output_type": "stream",
     "text": [
      "data/test.zip data\n",
      "data/train.zip data\n"
     ]
    },
    {
     "data": {
      "text/plain": [
       "0"
      ]
     },
     "execution_count": 7,
     "metadata": {},
     "output_type": "execute_result"
    }
   ],
   "source": [
    "unzip(os.path.join(data_path, 'test.zip'), data_path)\n",
    "unzip(os.path.join(data_path, 'train.zip'), data_path)"
   ]
  },
  {
   "cell_type": "code",
   "execution_count": 8,
   "metadata": {},
   "outputs": [],
   "source": [
    "for category in ['dogs', 'cats']:\n",
    "    for folder in ['train', 'test', 'valid']:\n",
    "        mkdir(os.path.join(data_path, folder, category))\n",
    "        mkdir(os.path.join(sample_path, folder, category))"
   ]
  },
  {
   "cell_type": "code",
   "execution_count": 5,
   "metadata": {},
   "outputs": [
    {
     "name": "stdout",
     "output_type": "stream",
     "text": [
      "/Users/dorian/WorkSpace/kaggle_fun/dogs_vs_cats_redux_kernels_edition/data/train\n"
     ]
    }
   ],
   "source": [
    "cwd = os.getcwd()\n",
    "os.chdir('data/train/')\n",
    "\n",
    "call(\"find . -name 'cat.*' | xargs -J ^ mv ^ cats\")\n",
    "call(\"find . -name 'dog.*' | xargs -J ^ mv ^ dogs\")\n",
    "\n",
    "os.chdir(cwd)"
   ]
  },
  {
   "cell_type": "code",
   "execution_count": 5,
   "metadata": {},
   "outputs": [
    {
     "name": "stdout",
     "output_type": "stream",
     "text": [
      "/Users/dorian/WorkSpace/kaggle_fun/dogs_vs_cats_redux_kernels_edition/data\n",
      "/Users/dorian/WorkSpace/kaggle_fun/dogs_vs_cats_redux_kernels_edition\n"
     ]
    }
   ],
   "source": [
    "cwd = os.getcwd()\n",
    "os.chdir('data/')\n",
    "\n",
    "train_cats, valid_cats, train_dogs, valid_dogs = train_test_split(os.listdir('train/cats'), os.listdir('train/dogs'), test_size=0.2)\n",
    "train_cats, test_cats, train_dogs, test_dogs = train_test_split(train_cats, train_dogs, test_size=0.1)\n",
    "\n",
    "# training data\n",
    "for d in valid_dogs:\n",
    "    call(\"mv train/dogs/{} valid/dogs\".format(d))\n",
    "for c in valid_cats:\n",
    "    call(\"mv train/cats/{} valid/cats\".format(c))\n",
    "\n",
    "for d in test_dogs:\n",
    "    call(\"mv train/dogs/{} test/dogs\".format(d))\n",
    "for c in test_cats:\n",
    "    call(\"mv train/cats/{} test/cats\".format(c))\n",
    "\n",
    "\n",
    "# sample data\n",
    "for d in train_dogs[:20]:\n",
    "    call(\"cp train/dogs/{} sample/train/dogs\".format(d))\n",
    "for c in train_cats[:20]:\n",
    "    call(\"cp train/cats/{} sample/train/cats\".format(c))\n",
    "\n",
    "for d in valid_dogs[:5]:\n",
    "    call(\"cp train/dogs/{} sample/valid/dogs\".format(d))\n",
    "for c in valid_cats[:5]:\n",
    "    call(\"cp train/cats/{} sample/valid/cats\".format(c))\n",
    "\n",
    "for d in test_dogs[:5]:\n",
    "    call(\"cp train/dogs/{} sample/test/dogs\".format(d))\n",
    "for c in test_cats[:5]:\n",
    "    call(\"cp train/cats/{} sample/test/cats\".format(c))\n",
    "\n",
    "\n",
    "os.chdir(cwd)"
   ]
  },
  {
   "cell_type": "markdown",
   "metadata": {},
   "source": [
    "## Fine tune VGG"
   ]
  },
  {
   "cell_type": "code",
   "execution_count": 4,
   "metadata": {},
   "outputs": [],
   "source": [
    "from utils.pretrained_models import VGG16\n",
    "from keras.preprocessing.image import ImageDataGenerator"
   ]
  },
  {
   "cell_type": "code",
   "execution_count": 5,
   "metadata": {},
   "outputs": [],
   "source": [
    "vgg_model = VGG16.get_model(2).model"
   ]
  },
  {
   "cell_type": "code",
   "execution_count": 7,
   "metadata": {},
   "outputs": [
    {
     "name": "stdout",
     "output_type": "stream",
     "text": [
      "Found 40 images belonging to 2 classes.\n",
      "Found 10 images belonging to 2 classes.\n",
      "Found 10 images belonging to 2 classes.\n"
     ]
    }
   ],
   "source": [
    "train_datagen = ImageDataGenerator()\n",
    "valid_datagen = ImageDataGenerator()\n",
    "test_datagen = ImageDataGenerator()\n",
    "train_flow = train_datagen.flow_from_directory(\n",
    "        os.path.join(data_path, 'train'),\n",
    "        target_size=(224, 224),\n",
    "        batch_size=5,\n",
    "        class_mode='categorical')\n",
    "valid_flow = valid_datagen.flow_from_directory(\n",
    "        os.path.join(data_path, 'valid'),\n",
    "        target_size=(224, 224),\n",
    "        batch_size=5,\n",
    "        class_mode='categorical')\n",
    "test_flow = test_datagen.flow_from_directory(\n",
    "        os.path.join(data_path, 'test'),\n",
    "        target_size=(224, 224),\n",
    "        batch_size=5,\n",
    "        class_mode='categorical',\n",
    "        shuffle=False)"
   ]
  },
  {
   "cell_type": "code",
   "execution_count": 11,
   "metadata": {},
   "outputs": [],
   "source": [
    "for l in vgg_model.layers[:-1]:\n",
    "    l.trainable = False"
   ]
  },
  {
   "cell_type": "code",
   "execution_count": 12,
   "metadata": {},
   "outputs": [
    {
     "name": "stdout",
     "output_type": "stream",
     "text": [
      "Epoch 1/1\n",
      "20/20 [==============================] - 173s 9s/step - loss: 0.2539 - acc: 0.9100 - val_loss: 0.6081 - val_acc: 0.7000\n"
     ]
    },
    {
     "data": {
      "text/plain": [
       "<keras.callbacks.History at 0x1063eee50>"
      ]
     },
     "execution_count": 12,
     "metadata": {},
     "output_type": "execute_result"
    }
   ],
   "source": [
    "vgg_model.compile(optimizer='rmsprop',\n",
    "              loss='categorical_crossentropy',\n",
    "              metrics=['accuracy'])\n",
    "vgg_model.fit_generator(\n",
    "        train_flow,\n",
    "        steps_per_epoch=20,\n",
    "        epochs=1,\n",
    "        validation_data=valid_flow,\n",
    "        validation_steps=20)"
   ]
  },
  {
   "cell_type": "code",
   "execution_count": 13,
   "metadata": {},
   "outputs": [
    {
     "data": {
      "text/plain": [
       "[0.03848399128764868, 1.0]"
      ]
     },
     "execution_count": 13,
     "metadata": {},
     "output_type": "execute_result"
    }
   ],
   "source": [
    "vgg_model.evaluate_generator(test_flow)"
   ]
  },
  {
   "cell_type": "code",
   "execution_count": 17,
   "metadata": {},
   "outputs": [
    {
     "data": {
      "text/plain": [
       "array([[9.9922144e-01, 7.7851169e-04],\n",
       "       [5.2542412e-03, 9.9474573e-01],\n",
       "       [9.4702196e-01, 5.2978039e-02],\n",
       "       [9.9267840e-01, 7.3215407e-03],\n",
       "       [1.6351958e-04, 9.9983644e-01],\n",
       "       [9.2523640e-01, 7.4763611e-02],\n",
       "       [2.1216381e-01, 7.8783619e-01],\n",
       "       [1.9384778e-04, 9.9980623e-01],\n",
       "       [9.9969661e-01, 3.0338240e-04],\n",
       "       [1.7961633e-04, 9.9982041e-01]], dtype=float32)"
      ]
     },
     "execution_count": 17,
     "metadata": {},
     "output_type": "execute_result"
    }
   ],
   "source": [
    "vgg_model.predict_generator(test_flow)"
   ]
  },
  {
   "cell_type": "code",
   "execution_count": null,
   "metadata": {},
   "outputs": [],
   "source": []
  }
 ],
 "metadata": {
  "kernelspec": {
   "display_name": "Python 2",
   "language": "python",
   "name": "python2"
  },
  "language_info": {
   "codemirror_mode": {
    "name": "ipython",
    "version": 2
   },
   "file_extension": ".py",
   "mimetype": "text/x-python",
   "name": "python",
   "nbconvert_exporter": "python",
   "pygments_lexer": "ipython2",
   "version": "2.7.14"
  }
 },
 "nbformat": 4,
 "nbformat_minor": 1
}
