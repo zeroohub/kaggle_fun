{
 "cells": [
  {
   "cell_type": "code",
   "execution_count": 1,
   "metadata": {},
   "outputs": [],
   "source": [
    "%matplotlib inline\n",
    "%load_ext autoreload\n",
    "%autoreload 2\n",
    "from __future__ import division\n",
    "import sys\n",
    "import os\n",
    "from os.path import join as pjoin\n",
    "from glob import glob\n",
    "sys.path.append('..')"
   ]
  },
  {
   "cell_type": "code",
   "execution_count": 2,
   "metadata": {},
   "outputs": [
    {
     "name": "stderr",
     "output_type": "stream",
     "text": [
      "/home/ansible/WorkSpace/miniconda2/envs/kaggle/lib/python2.7/site-packages/h5py/__init__.py:36: FutureWarning: Conversion of the second argument of issubdtype from `float` to `np.floating` is deprecated. In future, it will be treated as `np.float64 == np.dtype(float).type`.\n",
      "  from ._conv import register_converters as _register_converters\n",
      "Using TensorFlow backend.\n"
     ]
    }
   ],
   "source": [
    "import cv2\n",
    "import csv\n",
    "import numpy as np\n",
    "from sklearn.model_selection import train_test_split\n",
    "from utils.commands import unzip, make_data_dir, mkdir, call, count_file, KaggleCLI, execute_in\n",
    "\n",
    "cli = KaggleCLI('galaxy-zoo-the-galaxy-challenge')"
   ]
  },
  {
   "cell_type": "code",
   "execution_count": 6,
   "metadata": {},
   "outputs": [],
   "source": [
    "data_path = 'data'\n",
    "model_path = 'models'\n",
    "sample_path = pjoin(data_path, 'sample')\n",
    "train_name = 'images_training_rev1'"
   ]
  },
  {
   "cell_type": "markdown",
   "metadata": {},
   "source": [
    "## Data preprocess"
   ]
  },
  {
   "cell_type": "code",
   "execution_count": 11,
   "metadata": {},
   "outputs": [],
   "source": [
    "cli.download_data()"
   ]
  },
  {
   "cell_type": "code",
   "execution_count": 8,
   "metadata": {},
   "outputs": [],
   "source": [
    "for zfile in os.listdir(data_path):\n",
    "    if zfile.endswith('.zip'):\n",
    "        unzip(pjoin(data_path, zfile), data_path)"
   ]
  },
  {
   "cell_type": "code",
   "execution_count": 17,
   "metadata": {},
   "outputs": [],
   "source": [
    "mkdir(pjoin(sample_path, train_name))\n",
    "mkdir(model_path)"
   ]
  },
  {
   "cell_type": "code",
   "execution_count": 11,
   "metadata": {},
   "outputs": [],
   "source": [
    "def settle_data():\n",
    "    train_data, sample_data = train_test_split(os.listdir(train_name), test_size=0.01)\n",
    "    for s in sample_data:\n",
    "        call('cp {}/{} sample/{}/'.format(train_name, s, train_name))\n",
    "    call('cp training_solutions_rev1.csv sample/')\n",
    "\n",
    "execute_in('data/', settle_data)"
   ]
  },
  {
   "cell_type": "markdown",
   "metadata": {},
   "source": [
    "## Loading Data"
   ]
  },
  {
   "cell_type": "code",
   "execution_count": 4,
   "metadata": {},
   "outputs": [],
   "source": [
    "work_path = sample_path"
   ]
  },
  {
   "cell_type": "code",
   "execution_count": 7,
   "metadata": {},
   "outputs": [],
   "source": [
    "def files_to_dict(files):\n",
    "    result = {}\n",
    "    for f in files:\n",
    "        img_arr = cv2.imread('{}/{}'.format(train_name, f))\n",
    "        result[f.split('.')[0]] = cv2.resize(img_arr, (224, 224), interpolation=cv2.INTER_AREA)\n",
    "    return result\n",
    "\n",
    "def labeled_data(data, label):\n",
    "    return zip(*[[v, label[k]] for k, v in data.iteritems()])\n",
    "\n",
    "def load_data():\n",
    "    train_files, test_files = train_test_split(os.listdir(train_name), test_size=0.3)\n",
    "    valid_files, test_files = train_test_split(test_files, test_size=0.4)\n",
    "    \n",
    "    \n",
    "    train_data = files_to_dict(train_files)\n",
    "    valid_data = files_to_dict(valid_files)\n",
    "    test_data = files_to_dict(test_files)\n",
    "    \n",
    "    with open('training_solutions_rev1.csv', 'rb') as f:\n",
    "        reader = csv.reader(f)\n",
    "        reader.next()\n",
    "        label_data = {}\n",
    "        for row in reader:\n",
    "            label_data[row[0]] = [float(num) for num in row[1:]]\n",
    "    \n",
    "    return train_data, valid_data, test_data, label_data\n",
    "\n",
    "train_data, valid_data, test_data, label_data = execute_in(work_path, load_data)\n",
    "\n",
    "train_data = labeled_data(train_data, label_data)\n",
    "test_data = labeled_data(test_data, label_data)\n",
    "valid_data = labeled_data(valid_data, label_data)"
   ]
  },
  {
   "cell_type": "markdown",
   "metadata": {},
   "source": [
    "## Fine tune VGG"
   ]
  },
  {
   "cell_type": "code",
   "execution_count": 8,
   "metadata": {},
   "outputs": [],
   "source": [
    "from utils.pretrained_models import VGG16\n",
    "from keras.preprocessing.image import ImageDataGenerator\n",
    "from keras.callbacks import ModelCheckpoint"
   ]
  },
  {
   "cell_type": "code",
   "execution_count": 9,
   "metadata": {},
   "outputs": [],
   "source": [
    "vgg_model = VGG16.get_model(37).model"
   ]
  },
  {
   "cell_type": "code",
   "execution_count": 10,
   "metadata": {},
   "outputs": [],
   "source": [
    "train_datagen = ImageDataGenerator()\n",
    "valid_datagen = ImageDataGenerator()\n",
    "test_datagen = ImageDataGenerator()\n",
    "train_flow = train_datagen.flow(np.array(train_data[0]), np.array(train_data[1]))\n",
    "valid_flow = valid_datagen.flow(np.array(valid_data[0]), np.array(valid_data[1]))\n",
    "test_flow = test_datagen.flow(np.array(test_data[0]), np.array(test_data[1]))"
   ]
  },
  {
   "cell_type": "code",
   "execution_count": 11,
   "metadata": {},
   "outputs": [],
   "source": [
    "for l in vgg_model.layers[:-1]:\n",
    "    l.trainable = False"
   ]
  },
  {
   "cell_type": "code",
   "execution_count": 13,
   "metadata": {},
   "outputs": [
    {
     "name": "stdout",
     "output_type": "stream",
     "text": [
      "Epoch 1/1\n",
      "10/10 [==============================] - 3s 307ms/step - loss: 0.0607 - acc: 0.3244 - val_loss: 0.0565 - val_acc: 0.5734\n"
     ]
    },
    {
     "data": {
      "text/plain": [
       "<keras.callbacks.History at 0x7f19b439c250>"
      ]
     },
     "execution_count": 13,
     "metadata": {},
     "output_type": "execute_result"
    }
   ],
   "source": [
    "vgg_model.compile(optimizer='rmsprop',\n",
    "              loss='mse',\n",
    "              metrics=['accuracy'])\n",
    "checkpointer = ModelCheckpoint(pjoin(model_path, 'weights_best.hdf5'), save_best_only=True)\n",
    "vgg_model.fit_generator(\n",
    "        train_flow,\n",
    "        steps_per_epoch=16,\n",
    "        epochs=1,\n",
    "        validation_data=valid_flow,\n",
    "        validation_steps=16,\n",
    "        callbacks=[checkpointer])"
   ]
  },
  {
   "cell_type": "code",
   "execution_count": 15,
   "metadata": {},
   "outputs": [
    {
     "data": {
      "text/plain": [
       "[0.05667893346902486, 0.576576580335428]"
      ]
     },
     "execution_count": 15,
     "metadata": {},
     "output_type": "execute_result"
    }
   ],
   "source": [
    "vgg_model.load_weights(pjoin(model_path, 'weights_best.hdf5'))\n",
    "vgg_model.evaluate_generator(valid_flow)"
   ]
  },
  {
   "cell_type": "code",
   "execution_count": 17,
   "metadata": {},
   "outputs": [],
   "source": [
    "preds = vgg_model.predict_generator(test_flow)"
   ]
  },
  {
   "cell_type": "code",
   "execution_count": 19,
   "metadata": {},
   "outputs": [
    {
     "name": "stdout",
     "output_type": "stream",
     "text": [
      "37\n"
     ]
    }
   ],
   "source": [
    "print len(preds[0])"
   ]
  },
  {
   "cell_type": "code",
   "execution_count": null,
   "metadata": {},
   "outputs": [],
   "source": []
  }
 ],
 "metadata": {
  "kernelspec": {
   "display_name": "Python 2",
   "language": "python",
   "name": "python2"
  },
  "language_info": {
   "codemirror_mode": {
    "name": "ipython",
    "version": 2
   },
   "file_extension": ".py",
   "mimetype": "text/x-python",
   "name": "python",
   "nbconvert_exporter": "python",
   "pygments_lexer": "ipython2",
   "version": "2.7.14"
  }
 },
 "nbformat": 4,
 "nbformat_minor": 1
}
