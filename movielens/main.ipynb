{
 "cells": [
  {
   "cell_type": "markdown",
   "metadata": {},
   "source": [
    "# MovieLens"
   ]
  },
  {
   "cell_type": "markdown",
   "metadata": {},
   "source": [
    "## Prepare "
   ]
  },
  {
   "cell_type": "code",
   "execution_count": 1,
   "metadata": {
    "ExecuteTime": {
     "end_time": "2018-04-08T03:50:36.290140Z",
     "start_time": "2018-04-08T03:50:35.054052Z"
    }
   },
   "outputs": [],
   "source": [
    "%matplotlib inline\n",
    "%load_ext autoreload\n",
    "%autoreload 2\n",
    "from __future__ import division\n",
    "import sys\n",
    "import os\n",
    "from os.path import join as pjoin\n",
    "from glob import glob\n",
    "from matplotlib import pyplot as plt\n",
    "sys.path.append('..')"
   ]
  },
  {
   "cell_type": "code",
   "execution_count": 2,
   "metadata": {
    "ExecuteTime": {
     "end_time": "2018-04-08T03:57:07.411245Z",
     "start_time": "2018-04-08T03:57:01.854633Z"
    }
   },
   "outputs": [
    {
     "name": "stderr",
     "output_type": "stream",
     "text": [
      "/home/ansible/WorkSpace/miniconda2/envs/kaggle/lib/python2.7/site-packages/h5py/__init__.py:36: FutureWarning: Conversion of the second argument of issubdtype from `float` to `np.floating` is deprecated. In future, it will be treated as `np.float64 == np.dtype(float).type`.\n",
      "  from ._conv import register_converters as _register_converters\n",
      "Using TensorFlow backend.\n"
     ]
    }
   ],
   "source": [
    "import cv2\n",
    "import csv\n",
    "import pandas as pd\n",
    "import numpy as np\n",
    "from sklearn.model_selection import train_test_split\n",
    "\n",
    "from utils.commands import unzip, mkdir, call, count_file, KaggleCLI, execute_in, unzip_all\n",
    "from utils.plot import plot_images, plot_confusion_matrix"
   ]
  },
  {
   "cell_type": "code",
   "execution_count": 52,
   "metadata": {
    "ExecuteTime": {
     "end_time": "2018-04-08T05:44:08.225948Z",
     "start_time": "2018-04-08T05:44:08.183585Z"
    }
   },
   "outputs": [],
   "source": [
    "from keras import optimizers, initializers, losses, callbacks, regularizers\n",
    "from keras.preprocessing.image import ImageDataGenerator\n",
    "from keras.models import Sequential, Model\n",
    "from keras.layers import Dense, Input, Flatten, InputLayer, BatchNormalization, Dropout, Embedding, dot, add, concatenate\n",
    "from keras.utils.data_utils import get_file\n",
    "from keras.regularizers import l2\n",
    "from keras.optimizers import Adam"
   ]
  },
  {
   "cell_type": "code",
   "execution_count": 4,
   "metadata": {
    "ExecuteTime": {
     "end_time": "2018-04-08T03:59:23.143617Z",
     "start_time": "2018-04-08T03:59:23.063384Z"
    }
   },
   "outputs": [],
   "source": [
    "model_path = pjoin(os.getcwd(), 'models')\n",
    "cal_path = pjoin(os.getcwd(), 'cal')\n",
    "data_path = pjoin(os.getcwd(), 'data')\n",
    "for p in [model_path, cal_path, data_path]:\n",
    "    mkdir(p)"
   ]
  },
  {
   "cell_type": "markdown",
   "metadata": {},
   "source": [
    "Things will be done:\n",
    "- examine the data\n",
    "- Collaborative Filtering\n"
   ]
  },
  {
   "cell_type": "markdown",
   "metadata": {},
   "source": [
    "## Examine Data"
   ]
  },
  {
   "cell_type": "markdown",
   "metadata": {},
   "source": [
    "### Loading data"
   ]
  },
  {
   "cell_type": "code",
   "execution_count": 13,
   "metadata": {
    "ExecuteTime": {
     "end_time": "2018-03-25T03:46:23.255624Z",
     "start_time": "2018-03-25T03:46:22.749341Z"
    }
   },
   "outputs": [
    {
     "name": "stdout",
     "output_type": "stream",
     "text": [
      "Downloading data from http://files.grouplens.org/datasets/movielens/ml-latest-small.zip\n",
      "925696/918269 [==============================] - 0s 0us/step\n",
      "933888/918269 [==============================] - 0s 0us/step\n"
     ]
    },
    {
     "data": {
      "text/plain": [
       "'/home/shared/ZhaoyuWorkSpace/kaggle_fun/movielens/data/ml-latest-small.zip'"
      ]
     },
     "execution_count": 13,
     "metadata": {},
     "output_type": "execute_result"
    }
   ],
   "source": [
    "get_file(pjoin(data_path, 'ml-latest-small.zip'),\n",
    "         origin='http://files.grouplens.org/datasets/movielens/ml-latest-small.zip')"
   ]
  },
  {
   "cell_type": "code",
   "execution_count": 5,
   "metadata": {
    "ExecuteTime": {
     "end_time": "2018-04-08T03:59:37.639153Z",
     "start_time": "2018-04-08T03:59:37.494464Z"
    }
   },
   "outputs": [],
   "source": [
    "ratings = pd.read_csv(pjoin(data_path, 'ml-latest-small', 'ratings.csv'))"
   ]
  },
  {
   "cell_type": "markdown",
   "metadata": {},
   "source": [
    "### Preprocessing Data"
   ]
  },
  {
   "cell_type": "code",
   "execution_count": 9,
   "metadata": {
    "ExecuteTime": {
     "end_time": "2018-04-08T04:18:44.382027Z",
     "start_time": "2018-04-08T04:18:44.338587Z"
    }
   },
   "outputs": [],
   "source": [
    "n_users = ratings.userId.nunique()\n",
    "n_movies = ratings.movieId.nunique()"
   ]
  },
  {
   "cell_type": "code",
   "execution_count": 10,
   "metadata": {
    "ExecuteTime": {
     "end_time": "2018-04-08T04:18:46.343519Z",
     "start_time": "2018-04-08T04:18:46.293455Z"
    }
   },
   "outputs": [],
   "source": [
    "train, valid = train_test_split(ratings, test_size=0.2)"
   ]
  },
  {
   "cell_type": "code",
   "execution_count": 11,
   "metadata": {
    "ExecuteTime": {
     "end_time": "2018-04-08T04:18:48.990128Z",
     "start_time": "2018-04-08T04:18:48.950923Z"
    }
   },
   "outputs": [
    {
     "name": "stdout",
     "output_type": "stream",
     "text": [
      "(80003, 4) (20001, 4)\n"
     ]
    }
   ],
   "source": [
    "print train.shape, valid.shape"
   ]
  },
  {
   "cell_type": "markdown",
   "metadata": {},
   "source": [
    "## collaborative filtering "
   ]
  },
  {
   "cell_type": "markdown",
   "metadata": {},
   "source": [
    "### Simple filtering"
   ]
  },
  {
   "cell_type": "code",
   "execution_count": 46,
   "metadata": {
    "ExecuteTime": {
     "end_time": "2018-04-08T05:38:49.697834Z",
     "start_time": "2018-04-08T05:38:49.565265Z"
    },
    "collapsed": true
   },
   "outputs": [
    {
     "name": "stdout",
     "output_type": "stream",
     "text": [
      "__________________________________________________________________________________________________\n",
      "Layer (type)                    Output Shape         Param #     Connected to                     \n",
      "==================================================================================================\n",
      "user_in (InputLayer)            (None, 1)            0                                            \n",
      "__________________________________________________________________________________________________\n",
      "movie_in (InputLayer)           (None, 1)            0                                            \n",
      "__________________________________________________________________________________________________\n",
      "embedding_29 (Embedding)        (None, 1, 50)        33550       user_in[0][0]                    \n",
      "__________________________________________________________________________________________________\n",
      "embedding_31 (Embedding)        (None, 1, 50)        453300      movie_in[0][0]                   \n",
      "__________________________________________________________________________________________________\n",
      "dot_9 (Dot)                     (None, 1, 1)         0           embedding_29[0][0]               \n",
      "                                                                 embedding_31[0][0]               \n",
      "__________________________________________________________________________________________________\n",
      "embedding_30 (Embedding)        (None, 1, 1)         671         user_in[0][0]                    \n",
      "__________________________________________________________________________________________________\n",
      "flatten_22 (Flatten)            (None, 1)            0           dot_9[0][0]                      \n",
      "__________________________________________________________________________________________________\n",
      "flatten_23 (Flatten)            (None, 1)            0           embedding_30[0][0]               \n",
      "__________________________________________________________________________________________________\n",
      "embedding_32 (Embedding)        (None, 1, 1)         9066        movie_in[0][0]                   \n",
      "__________________________________________________________________________________________________\n",
      "add_10 (Add)                    (None, 1)            0           flatten_22[0][0]                 \n",
      "                                                                 flatten_23[0][0]                 \n",
      "__________________________________________________________________________________________________\n",
      "flatten_24 (Flatten)            (None, 1)            0           embedding_32[0][0]               \n",
      "__________________________________________________________________________________________________\n",
      "add_11 (Add)                    (None, 1)            0           add_10[0][0]                     \n",
      "                                                                 flatten_24[0][0]                 \n",
      "==================================================================================================\n",
      "Total params: 496,587\n",
      "Trainable params: 496,587\n",
      "Non-trainable params: 0\n",
      "__________________________________________________________________________________________________\n"
     ]
    }
   ],
   "source": [
    "def build_model():\n",
    "    n_factors = 50\n",
    "    \n",
    "    user_in = Input(shape=(1,), dtype='int64', name='user_in')\n",
    "    u = Embedding(n_users, n_factors, input_length=1, embeddings_regularizer=l2(1e-4))(user_in)\n",
    "    ub = Embedding(n_users, 1, input_length=1)(user_in)\n",
    "    \n",
    "    movie_in = Input(shape=(1,), dtype='int64', name='movie_in')\n",
    "    m = Embedding(n_movies, n_factors, input_length=1, embeddings_regularizer=l2(1e-4))(movie_in)\n",
    "    mb = Embedding(n_movies, 1, input_length=1)(movie_in)\n",
    "    \n",
    "    x = dot([u, m], -1)\n",
    "    x = Flatten()(x)\n",
    "    ub = Flatten()(ub)\n",
    "    x = add([x, ub])\n",
    "    mb = Flatten()(mb)\n",
    "    x = add([x, mb])\n",
    "    model = Model([user_in, movie_in], x)\n",
    "    model.summary()\n",
    "    return model\n",
    "\n",
    "model = build_model()"
   ]
  },
  {
   "cell_type": "code",
   "execution_count": 47,
   "metadata": {
    "ExecuteTime": {
     "end_time": "2018-04-08T05:39:19.242170Z",
     "start_time": "2018-04-08T05:39:19.173947Z"
    }
   },
   "outputs": [],
   "source": [
    "model.compile(Adam(0.001), loss='mse')"
   ]
  },
  {
   "cell_type": "code",
   "execution_count": 48,
   "metadata": {
    "ExecuteTime": {
     "end_time": "2018-04-08T05:39:49.531512Z",
     "start_time": "2018-04-08T05:39:20.367902Z"
    }
   },
   "outputs": [
    {
     "name": "stdout",
     "output_type": "stream",
     "text": [
      "Train on 80003 samples, validate on 20001 samples\n",
      "Epoch 1/5\n",
      "80003/80003 [==============================] - 6s 74us/step - loss: 9.3181 - val_loss: 4.4037\n",
      "Epoch 2/5\n",
      "80003/80003 [==============================] - 6s 73us/step - loss: 3.5274 - val_loss: 3.1843\n",
      "Epoch 3/5\n",
      "80003/80003 [==============================] - 6s 70us/step - loss: 2.8487 - val_loss: 2.8097\n",
      "Epoch 4/5\n",
      "80003/80003 [==============================] - 6s 70us/step - loss: 2.5346 - val_loss: 2.5424\n",
      "Epoch 5/5\n",
      "80003/80003 [==============================] - 6s 73us/step - loss: 2.2968 - val_loss: 2.3314\n"
     ]
    },
    {
     "data": {
      "text/plain": [
       "<keras.callbacks.History at 0x7fc245c7c110>"
      ]
     },
     "execution_count": 48,
     "metadata": {},
     "output_type": "execute_result"
    }
   ],
   "source": [
    "model.fit([train.userId, train.movieId], train.rating, batch_size=64, epochs=5, \n",
    "          validation_data=([valid.userId, valid.movieId], valid.rating))"
   ]
  },
  {
   "cell_type": "code",
   "execution_count": 49,
   "metadata": {
    "ExecuteTime": {
     "end_time": "2018-04-08T05:39:51.315881Z",
     "start_time": "2018-04-08T05:39:51.276306Z"
    }
   },
   "outputs": [],
   "source": [
    "model.optimizer.lr = 0.0001"
   ]
  },
  {
   "cell_type": "code",
   "execution_count": 51,
   "metadata": {
    "ExecuteTime": {
     "end_time": "2018-04-08T05:41:34.776106Z",
     "start_time": "2018-04-08T05:40:37.363631Z"
    }
   },
   "outputs": [
    {
     "name": "stdout",
     "output_type": "stream",
     "text": [
      "Train on 80003 samples, validate on 20001 samples\n",
      "Epoch 1/10\n",
      "80003/80003 [==============================] - 6s 73us/step - loss: 1.4290 - val_loss: 1.5681\n",
      "Epoch 2/10\n",
      "80003/80003 [==============================] - 6s 71us/step - loss: 1.3385 - val_loss: 1.4928\n",
      "Epoch 3/10\n",
      "80003/80003 [==============================] - 6s 73us/step - loss: 1.2567 - val_loss: 1.4307\n",
      "Epoch 4/10\n",
      "80003/80003 [==============================] - 6s 72us/step - loss: 1.1835 - val_loss: 1.3733\n",
      "Epoch 5/10\n",
      "80003/80003 [==============================] - 6s 70us/step - loss: 1.1189 - val_loss: 1.3270\n",
      "Epoch 6/10\n",
      "80003/80003 [==============================] - 6s 72us/step - loss: 1.0600 - val_loss: 1.2848\n",
      "Epoch 7/10\n",
      "80003/80003 [==============================] - 6s 73us/step - loss: 1.0077 - val_loss: 1.2506\n",
      "Epoch 8/10\n",
      "80003/80003 [==============================] - 6s 71us/step - loss: 0.9610 - val_loss: 1.2173\n",
      "Epoch 9/10\n",
      "80003/80003 [==============================] - 6s 72us/step - loss: 0.9191 - val_loss: 1.1907\n",
      "Epoch 10/10\n",
      "80003/80003 [==============================] - 6s 70us/step - loss: 0.8821 - val_loss: 1.1686\n"
     ]
    },
    {
     "data": {
      "text/plain": [
       "<keras.callbacks.History at 0x7fc245f98610>"
      ]
     },
     "execution_count": 51,
     "metadata": {},
     "output_type": "execute_result"
    }
   ],
   "source": [
    "model.fit([train.userId, train.movieId], train.rating, batch_size=64, epochs=10, \n",
    "          validation_data=([valid.userId, valid.movieId], valid.rating))"
   ]
  },
  {
   "cell_type": "markdown",
   "metadata": {},
   "source": [
    "### Filtering with neural net"
   ]
  },
  {
   "cell_type": "code",
   "execution_count": 53,
   "metadata": {
    "ExecuteTime": {
     "end_time": "2018-04-08T05:45:28.007160Z",
     "start_time": "2018-04-08T05:45:27.845583Z"
    }
   },
   "outputs": [
    {
     "name": "stdout",
     "output_type": "stream",
     "text": [
      "__________________________________________________________________________________________________\n",
      "Layer (type)                    Output Shape         Param #     Connected to                     \n",
      "==================================================================================================\n",
      "user_in (InputLayer)            (None, 1)            0                                            \n",
      "__________________________________________________________________________________________________\n",
      "movie_in (InputLayer)           (None, 1)            0                                            \n",
      "__________________________________________________________________________________________________\n",
      "embedding_33 (Embedding)        (None, 1, 50)        33550       user_in[0][0]                    \n",
      "__________________________________________________________________________________________________\n",
      "embedding_34 (Embedding)        (None, 1, 50)        453300      movie_in[0][0]                   \n",
      "__________________________________________________________________________________________________\n",
      "concatenate_1 (Concatenate)     (None, 1, 100)       0           embedding_33[0][0]               \n",
      "                                                                 embedding_34[0][0]               \n",
      "__________________________________________________________________________________________________\n",
      "flatten_25 (Flatten)            (None, 100)          0           concatenate_1[0][0]              \n",
      "__________________________________________________________________________________________________\n",
      "dropout_1 (Dropout)             (None, 100)          0           flatten_25[0][0]                 \n",
      "__________________________________________________________________________________________________\n",
      "dense_1 (Dense)                 (None, 100)          10100       dropout_1[0][0]                  \n",
      "__________________________________________________________________________________________________\n",
      "dropout_2 (Dropout)             (None, 100)          0           dense_1[0][0]                    \n",
      "__________________________________________________________________________________________________\n",
      "dense_2 (Dense)                 (None, 1)            101         dropout_2[0][0]                  \n",
      "==================================================================================================\n",
      "Total params: 497,051\n",
      "Trainable params: 497,051\n",
      "Non-trainable params: 0\n",
      "__________________________________________________________________________________________________\n"
     ]
    }
   ],
   "source": [
    "def build_model():\n",
    "    n_factors = 50\n",
    "    \n",
    "    user_in = Input(shape=(1,), dtype='int64', name='user_in')\n",
    "    u = Embedding(n_users, n_factors, input_length=1, embeddings_regularizer=l2(1e-4))(user_in)\n",
    "    \n",
    "    movie_in = Input(shape=(1,), dtype='int64', name='movie_in')\n",
    "    m = Embedding(n_movies, n_factors, input_length=1, embeddings_regularizer=l2(1e-4))(movie_in)\n",
    "    \n",
    "    x = concatenate([u, m], -1)\n",
    "    x = Flatten()(x)\n",
    "    x = Dropout(0.3)(x)\n",
    "    x = Dense(100)(x)\n",
    "    x = Dropout(0.5)(x)\n",
    "    x = Dense(1)(x)\n",
    "    model = Model([user_in, movie_in], x)\n",
    "    model.summary()\n",
    "    return model\n",
    "\n",
    "model = build_model()"
   ]
  },
  {
   "cell_type": "code",
   "execution_count": 54,
   "metadata": {
    "ExecuteTime": {
     "end_time": "2018-04-08T05:46:29.246847Z",
     "start_time": "2018-04-08T05:46:29.180021Z"
    }
   },
   "outputs": [],
   "source": [
    "model.compile(Adam(0.001), loss='mse')"
   ]
  },
  {
   "cell_type": "code",
   "execution_count": 55,
   "metadata": {
    "ExecuteTime": {
     "end_time": "2018-04-08T05:46:52.254438Z",
     "start_time": "2018-04-08T05:46:31.499540Z"
    }
   },
   "outputs": [
    {
     "name": "stdout",
     "output_type": "stream",
     "text": [
      "Train on 80003 samples, validate on 20001 samples\n",
      "Epoch 1/3\n",
      "80003/80003 [==============================] - 7s 88us/step - loss: 1.5270 - val_loss: 0.8712\n",
      "Epoch 2/3\n",
      "80003/80003 [==============================] - 7s 83us/step - loss: 0.9584 - val_loss: 0.8499\n",
      "Epoch 3/3\n",
      "80003/80003 [==============================] - 7s 83us/step - loss: 0.9322 - val_loss: 0.8512\n"
     ]
    },
    {
     "data": {
      "text/plain": [
       "<keras.callbacks.History at 0x7fc244ff2cd0>"
      ]
     },
     "execution_count": 55,
     "metadata": {},
     "output_type": "execute_result"
    }
   ],
   "source": [
    "model.fit([train.userId, train.movieId], train.rating, batch_size=64, epochs=3, \n",
    "          validation_data=([valid.userId, valid.movieId], valid.rating))"
   ]
  }
 ],
 "metadata": {
  "kernelspec": {
   "display_name": "Python 2",
   "language": "python",
   "name": "python2"
  },
  "language_info": {
   "codemirror_mode": {
    "name": "ipython",
    "version": 2
   },
   "file_extension": ".py",
   "mimetype": "text/x-python",
   "name": "python",
   "nbconvert_exporter": "python",
   "pygments_lexer": "ipython2",
   "version": "2.7.14"
  }
 },
 "nbformat": 4,
 "nbformat_minor": 1
}
