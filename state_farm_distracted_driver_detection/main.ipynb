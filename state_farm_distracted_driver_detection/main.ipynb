{
 "cells": [
  {
   "cell_type": "code",
   "execution_count": 1,
   "metadata": {},
   "outputs": [],
   "source": [
    "%matplotlib inline\n",
    "%load_ext autoreload\n",
    "%autoreload 2\n",
    "from __future__ import division\n",
    "import sys\n",
    "import os\n",
    "from os.path import join as pjoin\n",
    "from glob import glob\n",
    "sys.path.append('..')"
   ]
  },
  {
   "cell_type": "code",
   "execution_count": 2,
   "metadata": {},
   "outputs": [
    {
     "name": "stderr",
     "output_type": "stream",
     "text": [
      "/home/ansible/WorkSpace/miniconda2/envs/kaggle/lib/python2.7/site-packages/h5py/__init__.py:36: FutureWarning: Conversion of the second argument of issubdtype from `float` to `np.floating` is deprecated. In future, it will be treated as `np.float64 == np.dtype(float).type`.\n",
      "  from ._conv import register_converters as _register_converters\n",
      "Using TensorFlow backend.\n"
     ]
    }
   ],
   "source": [
    "import cv2\n",
    "import csv\n",
    "import numpy as np\n",
    "from sklearn.model_selection import train_test_split\n",
    "from utils.commands import unzip, mkdir, call, count_file, KaggleCLI, execute_in\n",
    "\n",
    "cli = KaggleCLI('state-farm-distracted-driver-detection')"
   ]
  },
  {
   "cell_type": "code",
   "execution_count": 12,
   "metadata": {},
   "outputs": [],
   "source": [
    "data_path = pjoin(os.getcwd(), 'data')\n",
    "model_path = pjoin(os.getcwd(), 'models')\n",
    "sample_path = pjoin(data_path, 'sample')\n",
    "train_name = 'train'\n",
    "valid_name = 'valid'\n",
    "test_name = 'ttest'"
   ]
  },
  {
   "cell_type": "markdown",
   "metadata": {},
   "source": [
    "## Data preprocess"
   ]
  },
  {
   "cell_type": "code",
   "execution_count": 4,
   "metadata": {},
   "outputs": [],
   "source": [
    "cli.download_data()"
   ]
  },
  {
   "cell_type": "code",
   "execution_count": 5,
   "metadata": {},
   "outputs": [],
   "source": [
    "for zfile in os.listdir(data_path):\n",
    "    if zfile.endswith('.zip'):\n",
    "        unzip(pjoin(data_path, zfile), data_path)"
   ]
  },
  {
   "cell_type": "code",
   "execution_count": 17,
   "metadata": {},
   "outputs": [],
   "source": [
    "def mk_data_dirs():\n",
    "    cgs = os.listdir(train_name)\n",
    "    for name in [train_name, valid_name, test_name]:    \n",
    "        for cg in cgs:\n",
    "            mkdir(pjoin(name, cg))\n",
    "            mkdir(pjoin(sample_path, name, cg))\n",
    "            \n",
    "execute_in(data_path, mk_data_dirs)\n",
    "mkdir(model_path)"
   ]
  },
  {
   "cell_type": "code",
   "execution_count": 18,
   "metadata": {},
   "outputs": [],
   "source": [
    "def settle_data():\n",
    "    categories = os.listdir(train_name)\n",
    "    for cg in categories:\n",
    "        train_cg_path = pjoin(train_name, cg)\n",
    "        train, test = train_test_split(os.listdir(train_cg_path), test_size=0.3)\n",
    "        valid, test = train_test_split(test, test_size=0.4)\n",
    "        \n",
    "        for ds, ds_name in [(valid, valid_name), (test, test_name)]:\n",
    "            for fn in ds:\n",
    "                call('mv {} {}'.format(pjoin(train_cg_path, fn), pjoin(ds_name, cg)))\n",
    "        \n",
    "        for ds, ds_name in [(valid, valid_name), (test, test_name), (train, train_name)]:\n",
    "            _, sample = train_test_split(ds, test_size=0.1)\n",
    "            for fn in sample:\n",
    "                call('cp {} {}'.format(pjoin(ds_name, cg, fn), pjoin(sample_path, ds_name, cg)))\n",
    "\n",
    "execute_in(data_path, settle_data)"
   ]
  },
  {
   "cell_type": "markdown",
   "metadata": {},
   "source": [
    "## Loading Data"
   ]
  },
  {
   "cell_type": "code",
   "execution_count": 20,
   "metadata": {},
   "outputs": [],
   "source": [
    "work_path = sample_path"
   ]
  },
  {
   "cell_type": "markdown",
   "metadata": {},
   "source": [
    "## Fine tune VGG"
   ]
  },
  {
   "cell_type": "code",
   "execution_count": 21,
   "metadata": {},
   "outputs": [],
   "source": [
    "from utils.pretrained_models import VGG16\n",
    "from keras.preprocessing.image import ImageDataGenerator\n",
    "from keras.callbacks import ModelCheckpoint"
   ]
  },
  {
   "cell_type": "code",
   "execution_count": 22,
   "metadata": {},
   "outputs": [],
   "source": [
    "vgg_model = VGG16.get_model(10).model"
   ]
  },
  {
   "cell_type": "code",
   "execution_count": 29,
   "metadata": {},
   "outputs": [
    {
     "name": "stdout",
     "output_type": "stream",
     "text": [
      "Found 1574 images belonging to 10 classes.\n",
      "Found 407 images belonging to 10 classes.\n",
      "Found 1574 images belonging to 10 classes.\n"
     ]
    }
   ],
   "source": [
    "train_datagen = ImageDataGenerator()\n",
    "valid_datagen = ImageDataGenerator()\n",
    "test_datagen = ImageDataGenerator()\n",
    "\n",
    "batch_size = 32\n",
    "\n",
    "train_flow = train_datagen.flow_from_directory(\n",
    "    pjoin(work_path, train_name), \n",
    "    target_size=(224, 224),\n",
    "    class_mode='categorical',\n",
    "    shuffle=True,\n",
    "    batch_size=batch_size,\n",
    ")\n",
    "valid_flow = valid_datagen.flow_from_directory(\n",
    "    pjoin(work_path, valid_name), \n",
    "    target_size=(224, 224),\n",
    "    class_mode='categorical',\n",
    "    batch_size=batch_size,\n",
    ")\n",
    "test_flow = test_datagen.flow_from_directory(\n",
    "    pjoin(work_path, train_name), \n",
    "    target_size=(224, 224),\n",
    "    class_mode='categorical',\n",
    "    batch_size=batch_size,\n",
    ")"
   ]
  },
  {
   "cell_type": "code",
   "execution_count": 25,
   "metadata": {},
   "outputs": [],
   "source": [
    "for l in vgg_model.layers[:-1]:\n",
    "    l.trainable = False"
   ]
  },
  {
   "cell_type": "code",
   "execution_count": 30,
   "metadata": {},
   "outputs": [
    {
     "name": "stdout",
     "output_type": "stream",
     "text": [
      "Epoch 1/3\n",
      "49/49 [==============================] - 10s 205ms/step - loss: 1.9410 - acc: 0.4285 - val_loss: 1.6877 - val_acc: 0.4427\n",
      "Epoch 2/3\n",
      "49/49 [==============================] - 10s 202ms/step - loss: 0.9908 - acc: 0.6885 - val_loss: 0.9726 - val_acc: 0.6640\n",
      "Epoch 3/3\n",
      "49/49 [==============================] - 10s 206ms/step - loss: 0.6913 - acc: 0.7767 - val_loss: 0.8244 - val_acc: 0.7280\n"
     ]
    },
    {
     "data": {
      "text/plain": [
       "<keras.callbacks.History at 0x7f03cccf92d0>"
      ]
     },
     "execution_count": 30,
     "metadata": {},
     "output_type": "execute_result"
    }
   ],
   "source": [
    "train_steps = train_flow.samples // batch_size\n",
    "valid_steps = valid_flow.samples // batch_size\n",
    "epochs = 3\n",
    "\n",
    "vgg_model.compile(optimizer='rmsprop',\n",
    "              loss='categorical_crossentropy',\n",
    "              metrics=['accuracy'])\n",
    "checkpointer = ModelCheckpoint(pjoin(model_path, 'weights_best.hdf5'), save_best_only=True)\n",
    "vgg_model.fit_generator(\n",
    "        train_flow,\n",
    "        steps_per_epoch=train_steps,\n",
    "        epochs=epochs,\n",
    "        validation_data=valid_flow,\n",
    "        validation_steps=valid_steps,\n",
    "        callbacks=[checkpointer])"
   ]
  },
  {
   "cell_type": "code",
   "execution_count": 33,
   "metadata": {},
   "outputs": [
    {
     "name": "stdout",
     "output_type": "stream",
     "text": [
      "[0.48031948902555466, 0.8595933926302414]\n",
      "['loss', 'acc']\n"
     ]
    }
   ],
   "source": [
    "vgg_model.load_weights(pjoin(model_path, 'weights_best.hdf5'))\n",
    "print vgg_model.evaluate_generator(test_flow)\n",
    "print vgg_model.metrics_names"
   ]
  },
  {
   "cell_type": "code",
   "execution_count": 17,
   "metadata": {},
   "outputs": [],
   "source": [
    "preds = vgg_model.predict_generator(test_flow)"
   ]
  },
  {
   "cell_type": "code",
   "execution_count": 19,
   "metadata": {},
   "outputs": [
    {
     "name": "stdout",
     "output_type": "stream",
     "text": [
      "37\n"
     ]
    }
   ],
   "source": [
    "print len(preds[0])"
   ]
  },
  {
   "cell_type": "code",
   "execution_count": null,
   "metadata": {},
   "outputs": [],
   "source": []
  }
 ],
 "metadata": {
  "kernelspec": {
   "display_name": "Python 2",
   "language": "python",
   "name": "python2"
  },
  "language_info": {
   "codemirror_mode": {
    "name": "ipython",
    "version": 2
   },
   "file_extension": ".py",
   "mimetype": "text/x-python",
   "name": "python",
   "nbconvert_exporter": "python",
   "pygments_lexer": "ipython2",
   "version": "2.7.14"
  }
 },
 "nbformat": 4,
 "nbformat_minor": 1
}
